{
 "cells": [
  {
   "cell_type": "code",
   "execution_count": null,
   "id": "run-common-variables",
   "metadata": {},
   "outputs": [],
   "source": [
    "# Run common variables notebook\n",
    "%run ../common/variables.ipynb"
   ]
  },
  {
   "cell_type": "code",
   "execution_count": null,
   "id": "example-procedure",
   "metadata": {},
   "outputs": [],
   "source": [
    "# Example procedure notebook\n",
    "import sqlalchemy\n",
    "\n",
    "# Establish database connection\n",
    "connection = sqlalchemy.create_engine('your_connection_string')\n",
    "\n",
    "# SQL query\n",
    "query = f\"\"\"\n",
    "INSERT INTO {SCHEMA_NAME}.{TABLE_NAME} (column1, column2)\n",
    "VALUES ('value1', 'value2')\n",
    "\"\"\"\n",
    "\n",
    "# Execute query\n",
    "connection.execute(query)"
   ]
  }
 ],
 "metadata": {},
 "nbformat": 4,
 "nbformat_minor": 5
}
