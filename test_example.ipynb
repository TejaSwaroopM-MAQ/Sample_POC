{
 "cells": [
  {
   "cell_type": "code",
   "execution_count": null,
   "id": "run-common-variables",
   "metadata": {},
   "outputs": [],
   "source": [
    "# Run common variables notebook\n",
    "%run ../common/variables.ipynb"
   ]
  },
  {
   "cell_type": "code",
   "execution_count": null,
   "id": "test-example",
   "metadata": {},
   "outputs": [],
   "source": [
    "# Unit test for example mapping notebook\n",
    "import unittest\n",
    "import pandas as pd\n",
    "import sqlalchemy\n",
    "\n",
    "# Establish database connection\n",
    "connection = sqlalchemy.create_engine('your_connection_string')\n",
    "\n",
    "# SQL query\n",
    "query = f\"\"\"\n",
    "SELECT * FROM {SCHEMA_NAME}.{TABLE_NAME}\n",
    "WHERE DATE_FORMAT(timestamp_column, '{DATE_FORMAT}') = '2023-01-01'\n",
    "\"\"\"\n",
    "\n",
    "# Execute query\n",
    "df = pd.read_sql(query, connection)\n",
    "\n",
    "class TestExampleMapping(unittest.TestCase):\n",
    "    def test_dataframe_not_empty(self):\n",
    "        self.assertFalse(df.empty, \"DataFrame is empty\")\n",
    "\n",
    "if __name__ == '__main__':\n",
    "    unittest.main(argv=['first-arg-is-ignored'], exit=False)"
   ]
  }
 ],
 "metadata": {},
 "nbformat": 4,
 "nbformat_minor": 5
}
