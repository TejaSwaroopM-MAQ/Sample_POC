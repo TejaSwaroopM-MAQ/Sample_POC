{
 "cells": [
  {
   "cell_type": "code",
   "execution_count": null,
   "id": "run-common-variables",
   "metadata": {},
   "outputs": [],
   "source": [
    "# Run common variables notebook\n",
    "%run ../common/variables.ipynb"
   ]
  },
  {
   "cell_type": "code",
   "execution_count": null,
   "id": "example-mapping",
   "metadata": {},
   "outputs": [],
   "source": [
    "# Example mapping notebook\n",
    "import pandas as pd\n",
    "import sqlalchemy\n",
    "\n",
    "# Establish database connection\n",
    "connection = sqlalchemy.create_engine('your_connection_string')\n",
    "\n",
    "# SQL query\n",
    "query = f\"\"\"\n",
    "SELECT * FROM {SCHEMA_NAME}.{TABLE_NAME}\n",
    "WHERE DATE_FORMAT(timestamp_column, '{DATE_FORMAT}') = '2023-01-01'\n",
    "\"\"\"\n",
    "\n",
    "# Execute query\n",
    "df = pd.read_sql(query, connection)\n",
    "df.head()"
   ]
  }
 ],
 "metadata": {},
 "nbformat": 4,
 "nbformat_minor": 5
}
