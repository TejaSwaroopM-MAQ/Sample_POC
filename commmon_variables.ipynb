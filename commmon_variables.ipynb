import pandas as pd
import sqlalchemy

connection = sqlalchemy.create_engine('your_connection_string')
query = "SELECT * FROM {SCHEMA_NAME}.{TABLE_NAME} WHERE DATE_FORMAT(timestamp_column, '{DATE_FORMAT}') = '2023-01-01'"
# Execute query
df = pd.read_sql(query, connection)
df.head()
